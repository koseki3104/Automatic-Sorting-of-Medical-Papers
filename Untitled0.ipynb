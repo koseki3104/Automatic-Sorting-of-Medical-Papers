{
  "nbformat": 4,
  "nbformat_minor": 0,
  "metadata": {
    "colab": {
      "provenance": [],
      "authorship_tag": "ABX9TyNCPsjXKWElQsRcSJrwWW0G",
      "include_colab_link": true
    },
    "kernelspec": {
      "name": "python3",
      "display_name": "Python 3"
    },
    "language_info": {
      "name": "python"
    }
  },
  "cells": [
    {
      "cell_type": "markdown",
      "metadata": {
        "id": "view-in-github",
        "colab_type": "text"
      },
      "source": [
        "<a href=\"https://colab.research.google.com/github/koseki3104/Automatic-Sorting-of-Medical-Papers/blob/main/Untitled0.ipynb\" target=\"_parent\"><img src=\"https://colab.research.google.com/assets/colab-badge.svg\" alt=\"Open In Colab\"/></a>"
      ]
    },
    {
      "cell_type": "code",
      "execution_count": 1,
      "metadata": {
        "colab": {
          "base_uri": "https://localhost:8080/"
        },
        "id": "FsaMKEZ_yZDx",
        "outputId": "875d7be5-187c-4747-9619-ce738d5a0682"
      },
      "outputs": [
        {
          "output_type": "stream",
          "name": "stdout",
          "text": [
            "Mounted at /content/drive\n"
          ]
        }
      ],
      "source": [
        "from google.colab import drive\n",
        "drive.mount('/content/drive')"
      ]
    },
    {
      "cell_type": "code",
      "source": [
        "import os\n",
        "os.chdir('/content/drive/MyDrive/SIGNATE/【2025.07】医学論文の自動仕分け')"
      ],
      "metadata": {
        "id": "fe1D_HWKybfq"
      },
      "execution_count": 3,
      "outputs": []
    },
    {
      "cell_type": "code",
      "source": [
        "import pandas as pd\n",
        "test = pd.read_csv(\"test.csv\")\n",
        "print(test.info())\n",
        "train = pd.read_csv('train.csv')\n",
        "print(train.info())"
      ],
      "metadata": {
        "colab": {
          "base_uri": "https://localhost:8080/"
        },
        "id": "O2vIY9CTyiGv",
        "outputId": "1c2a96c3-0afe-448a-c614-869d977921aa"
      },
      "execution_count": 4,
      "outputs": [
        {
          "output_type": "stream",
          "name": "stdout",
          "text": [
            "<class 'pandas.core.frame.DataFrame'>\n",
            "RangeIndex: 40834 entries, 0 to 40833\n",
            "Data columns (total 3 columns):\n",
            " #   Column    Non-Null Count  Dtype \n",
            "---  ------    --------------  ----- \n",
            " 0   id        40834 non-null  int64 \n",
            " 1   title     40834 non-null  object\n",
            " 2   abstract  34288 non-null  object\n",
            "dtypes: int64(1), object(2)\n",
            "memory usage: 957.2+ KB\n",
            "None\n",
            "<class 'pandas.core.frame.DataFrame'>\n",
            "RangeIndex: 27145 entries, 0 to 27144\n",
            "Data columns (total 4 columns):\n",
            " #   Column     Non-Null Count  Dtype \n",
            "---  ------     --------------  ----- \n",
            " 0   id         27145 non-null  int64 \n",
            " 1   title      27145 non-null  object\n",
            " 2   abstract   22755 non-null  object\n",
            " 3   judgement  27145 non-null  int64 \n",
            "dtypes: int64(2), object(2)\n",
            "memory usage: 848.4+ KB\n",
            "None\n"
          ]
        }
      ]
    }
  ]
}