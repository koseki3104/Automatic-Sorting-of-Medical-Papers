{
  "nbformat": 4,
  "nbformat_minor": 0,
  "metadata": {
    "colab": {
      "provenance": [],
      "authorship_tag": "ABX9TyMqPfMBdCTo1zfnkq72sEUd",
      "include_colab_link": true
    },
    "kernelspec": {
      "name": "python3",
      "display_name": "Python 3"
    },
    "language_info": {
      "name": "python"
    }
  },
  "cells": [
    {
      "cell_type": "markdown",
      "metadata": {
        "id": "view-in-github",
        "colab_type": "text"
      },
      "source": [
        "<a href=\"https://colab.research.google.com/github/koseki3104/Automatic-Sorting-of-Medical-Papers/blob/main/%E5%8C%BB%E5%AD%A6%E8%AB%96%E6%96%87%E3%81%AE%E8%87%AA%E5%8B%95%E4%BB%95%E5%88%86%E3%81%91.ipynb\" target=\"_parent\"><img src=\"https://colab.research.google.com/assets/colab-badge.svg\" alt=\"Open In Colab\"/></a>"
      ]
    },
    {
      "cell_type": "code",
      "execution_count": null,
      "metadata": {
        "colab": {
          "base_uri": "https://localhost:8080/"
        },
        "id": "FsaMKEZ_yZDx",
        "outputId": "875d7be5-187c-4747-9619-ce738d5a0682"
      },
      "outputs": [
        {
          "output_type": "stream",
          "name": "stdout",
          "text": [
            "Mounted at /content/drive\n"
          ]
        }
      ],
      "source": [
        "from google.colab import drive\n",
        "drive.mount('/content/drive')"
      ]
    },
    {
      "cell_type": "code",
      "source": [
        "import os\n",
        "os.chdir('/content/drive/MyDrive/SIGNATE/【2025.07】医学論文の自動仕分け')"
      ],
      "metadata": {
        "id": "fe1D_HWKybfq"
      },
      "execution_count": null,
      "outputs": []
    },
    {
      "cell_type": "code",
      "source": [
        "import pandas as pd\n",
        "test = pd.read_csv(\"test.csv\")\n",
        "print(test.info())\n",
        "train = pd.read_csv('train.csv')\n",
        "print(train.info())\n",
        "\n",
        "print(test.head())"
      ],
      "metadata": {
        "colab": {
          "base_uri": "https://localhost:8080/"
        },
        "id": "O2vIY9CTyiGv",
        "outputId": "132f43e1-e6a9-48bd-f211-141cd08a2786"
      },
      "execution_count": 5,
      "outputs": [
        {
          "output_type": "stream",
          "name": "stdout",
          "text": [
            "<class 'pandas.core.frame.DataFrame'>\n",
            "RangeIndex: 40834 entries, 0 to 40833\n",
            "Data columns (total 3 columns):\n",
            " #   Column    Non-Null Count  Dtype \n",
            "---  ------    --------------  ----- \n",
            " 0   id        40834 non-null  int64 \n",
            " 1   title     40834 non-null  object\n",
            " 2   abstract  34288 non-null  object\n",
            "dtypes: int64(1), object(2)\n",
            "memory usage: 957.2+ KB\n",
            "None\n",
            "<class 'pandas.core.frame.DataFrame'>\n",
            "RangeIndex: 27145 entries, 0 to 27144\n",
            "Data columns (total 4 columns):\n",
            " #   Column     Non-Null Count  Dtype \n",
            "---  ------     --------------  ----- \n",
            " 0   id         27145 non-null  int64 \n",
            " 1   title      27145 non-null  object\n",
            " 2   abstract   22755 non-null  object\n",
            " 3   judgement  27145 non-null  int64 \n",
            "dtypes: int64(2), object(2)\n",
            "memory usage: 848.4+ KB\n",
            "None\n",
            "      id                                              title  \\\n",
            "0  27145  Estimating the potential effects of COVID-19 p...   \n",
            "1  27146  Leukoerythroblastic reaction in a patient with...   \n",
            "2  27147  [15O]-water PET and intraoperative brain mappi...   \n",
            "3  27148  Adaptive image segmentation for robust measure...   \n",
            "4  27149  Comparison of Epidemiological Variations in CO...   \n",
            "\n",
            "                                            abstract  \n",
            "0  The objective of the paper is to analyse chang...  \n",
            "1                                                NaN  \n",
            "2  [15O]-water PET was performed on 12 patients w...  \n",
            "3  We present a method that significantly improve...  \n",
            "4  The objective of this study is to compare the ...  \n"
          ]
        }
      ]
    }
  ]
}