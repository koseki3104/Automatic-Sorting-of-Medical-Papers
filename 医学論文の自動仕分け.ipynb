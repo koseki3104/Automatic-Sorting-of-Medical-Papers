{
  "nbformat": 4,
  "nbformat_minor": 0,
  "metadata": {
    "colab": {
      "provenance": [],
      "authorship_tag": "ABX9TyMD5C+TWCP4ql4iYup9L1w1",
      "include_colab_link": true
    },
    "kernelspec": {
      "name": "python3",
      "display_name": "Python 3"
    },
    "language_info": {
      "name": "python"
    }
  },
  "cells": [
    {
      "cell_type": "markdown",
      "metadata": {
        "id": "view-in-github",
        "colab_type": "text"
      },
      "source": [
        "<a href=\"https://colab.research.google.com/github/koseki3104/Automatic-Sorting-of-Medical-Papers/blob/main/%E5%8C%BB%E5%AD%A6%E8%AB%96%E6%96%87%E3%81%AE%E8%87%AA%E5%8B%95%E4%BB%95%E5%88%86%E3%81%91.ipynb\" target=\"_parent\"><img src=\"https://colab.research.google.com/assets/colab-badge.svg\" alt=\"Open In Colab\"/></a>"
      ]
    },
    {
      "cell_type": "code",
      "execution_count": 1,
      "metadata": {
        "colab": {
          "base_uri": "https://localhost:8080/"
        },
        "id": "FsaMKEZ_yZDx",
        "outputId": "f771287f-760a-4119-de39-4ec29d889a75"
      },
      "outputs": [
        {
          "output_type": "stream",
          "name": "stdout",
          "text": [
            "Mounted at /content/drive\n"
          ]
        }
      ],
      "source": [
        "from google.colab import drive\n",
        "drive.mount('/content/drive')"
      ]
    },
    {
      "cell_type": "code",
      "source": [
        "import os\n",
        "os.chdir('/content/drive/MyDrive/SIGNATE/【2025.07】医学論文の自動仕分け')"
      ],
      "metadata": {
        "id": "fe1D_HWKybfq"
      },
      "execution_count": 2,
      "outputs": []
    },
    {
      "cell_type": "code",
      "source": [
        "import pandas as pd\n",
        "test = pd.read_csv(\"test.csv\")\n",
        "#print(test.info())\n",
        "train = pd.read_csv('train.csv')\n",
        "#print(train.info())\n",
        "\n",
        "print(train.isnull().sum())"
      ],
      "metadata": {
        "colab": {
          "base_uri": "https://localhost:8080/"
        },
        "id": "O2vIY9CTyiGv",
        "outputId": "4798de95-8009-4d6b-eaca-ca32f1c07a7e"
      },
      "execution_count": 3,
      "outputs": [
        {
          "output_type": "stream",
          "name": "stdout",
          "text": [
            "id              0\n",
            "title           0\n",
            "abstract     4390\n",
            "judgement       0\n",
            "dtype: int64\n"
          ]
        }
      ]
    },
    {
      "cell_type": "code",
      "source": [
        "from sklearn.feature_extraction.text import TfidfVectorizer\n",
        "from sklearn.linear_model import LogisticRegression\n",
        "from sklearn.pipeline import Pipeline\n",
        "\n",
        "test['title'] = test['title'].fillna('')\n",
        "\n",
        "# 欠損値を空文字に置換\n",
        "train['title'] = train['title'].fillna('')\n",
        "train['abstract'] = train['abstract'].fillna('')\n",
        "test['title'] = test['title'].fillna('')\n",
        "test['abstract'] = test['abstract'].fillna('')\n",
        "\n",
        "# タイトルとアブストラクトを結合\n",
        "train['text'] = train['title'] + \" \" + train['abstract']\n",
        "test['text'] = test['title'] + \" \" + test['abstract']\n",
        "\n",
        "# モデル構築\n",
        "pipeline = Pipeline([\n",
        "    ('tfidf', TfidfVectorizer(max_features=10000, ngram_range=(1, 2))),\n",
        "    ('clf', LogisticRegression(max_iter=1000))\n",
        "])\n",
        "\n",
        "# 学習\n",
        "pipeline.fit(train['text'], train['judgement'])\n",
        "\n",
        "# 予測\n",
        "test['judgement'] = pipeline.predict(test['text'])\n",
        "\n",
        "# idと予測値だけ出力\n",
        "test[['id', 'judgement']].to_csv(\"submission.csv\", index=False, header=False)"
      ],
      "metadata": {
        "id": "ewMJe7XGipVG"
      },
      "execution_count": 7,
      "outputs": []
    }
  ]
}